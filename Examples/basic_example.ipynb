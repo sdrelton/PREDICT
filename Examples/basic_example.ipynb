{
 "cells": [
  {
   "cell_type": "code",
   "execution_count": 1,
   "metadata": {},
   "outputs": [],
   "source": [
    "import sys\n",
    "sys.path.append(\"../\")\n",
    "from PREDICT.PREDICT import PREDICT\n",
    "from PREDICT.Models.EvaluatePredictions import EvaluatePredictions\n",
    "from PREDICT.Metrics.Accuracy import Accuracy\n",
    "\n",
    "import pandas as pd\n",
    "import datetime as dt\n",
    "import numpy as np\n",
    "import matplotlib.pyplot as plt"
   ]
  },
  {
   "cell_type": "markdown",
   "metadata": {},
   "source": []
  },
  {
   "cell_type": "markdown",
   "metadata": {},
   "source": [
    "# Create some fake data\n",
    "\n",
    "Create some fake data across 52 weeks with accuracy declining over time.\n",
    "\n",
    "Start with accuracy = 90% and dropping linearly to 50% by the end of the year.\n",
    "\n",
    "For each day, create 100 fake datapoints with that expected level of accuracy."
   ]
  },
  {
   "cell_type": "code",
   "execution_count": 2,
   "metadata": {},
   "outputs": [],
   "source": [
    "mydict = {\n",
    "    'date': list(),\n",
    "    'outcome': list(),\n",
    "    'prediction': list()\n",
    "}\n",
    "numweeks = 52\n",
    "startDate = pd.to_datetime('01-01-2024', dayfirst=True)\n",
    "endDate = pd.to_datetime('31-12-2024', dayfirst=True)\n",
    "numdays = (endDate - startDate).days\n",
    "accuracy_start = 0.9\n",
    "accuracy_end = 0.5\n",
    "accuracy_drop = (0.9-0.5)/numdays\n",
    "\n",
    "for i in range(numdays):\n",
    "    curday = startDate + dt.timedelta(days=i)\n",
    "    curaccuracy = accuracy_start - accuracy_drop*i\n",
    "    # Generate fake outcomes\n",
    "    curoutcomes = np.random.choice([0, 1], size=100, p=[0.5, 0.5])\n",
    "    # Generate fake outcomes to match current accuracy level\n",
    "    correct = np.random.choice([0, 1], size=100, p=[1-curaccuracy, curaccuracy])\n",
    "    ix = list(np.where(correct==0)[0])\n",
    "    curpredictions = curoutcomes.copy()\n",
    "    curpredictions[ix] = 1-curpredictions[ix]\n",
    "    #curpredictions = curpredictions.astype(int)\n",
    "    # Append to dictionary\n",
    "    mydict['date'].extend([curday]*100)\n",
    "    mydict['outcome'].extend(curoutcomes)\n",
    "    mydict['prediction'].extend(curpredictions)\n",
    "\n",
    "df = pd.DataFrame(mydict)"
   ]
  },
  {
   "cell_type": "code",
   "execution_count": 3,
   "metadata": {},
   "outputs": [
    {
     "data": {
      "text/html": [
       "<div>\n",
       "<style scoped>\n",
       "    .dataframe tbody tr th:only-of-type {\n",
       "        vertical-align: middle;\n",
       "    }\n",
       "\n",
       "    .dataframe tbody tr th {\n",
       "        vertical-align: top;\n",
       "    }\n",
       "\n",
       "    .dataframe thead th {\n",
       "        text-align: right;\n",
       "    }\n",
       "</style>\n",
       "<table border=\"1\" class=\"dataframe\">\n",
       "  <thead>\n",
       "    <tr style=\"text-align: right;\">\n",
       "      <th></th>\n",
       "      <th>date</th>\n",
       "      <th>outcome</th>\n",
       "      <th>prediction</th>\n",
       "    </tr>\n",
       "  </thead>\n",
       "  <tbody>\n",
       "    <tr>\n",
       "      <th>0</th>\n",
       "      <td>2024-01-01</td>\n",
       "      <td>1</td>\n",
       "      <td>1</td>\n",
       "    </tr>\n",
       "    <tr>\n",
       "      <th>1</th>\n",
       "      <td>2024-01-01</td>\n",
       "      <td>0</td>\n",
       "      <td>0</td>\n",
       "    </tr>\n",
       "    <tr>\n",
       "      <th>2</th>\n",
       "      <td>2024-01-01</td>\n",
       "      <td>1</td>\n",
       "      <td>1</td>\n",
       "    </tr>\n",
       "    <tr>\n",
       "      <th>3</th>\n",
       "      <td>2024-01-01</td>\n",
       "      <td>1</td>\n",
       "      <td>1</td>\n",
       "    </tr>\n",
       "    <tr>\n",
       "      <th>4</th>\n",
       "      <td>2024-01-01</td>\n",
       "      <td>1</td>\n",
       "      <td>1</td>\n",
       "    </tr>\n",
       "  </tbody>\n",
       "</table>\n",
       "</div>"
      ],
      "text/plain": [
       "        date  outcome  prediction\n",
       "0 2024-01-01        1           1\n",
       "1 2024-01-01        0           0\n",
       "2 2024-01-01        1           1\n",
       "3 2024-01-01        1           1\n",
       "4 2024-01-01        1           1"
      ]
     },
     "execution_count": 3,
     "metadata": {},
     "output_type": "execute_result"
    }
   ],
   "source": [
    "df.head()"
   ]
  },
  {
   "cell_type": "code",
   "execution_count": 4,
   "metadata": {},
   "outputs": [],
   "source": [
    "model = EvaluatePredictions()"
   ]
  },
  {
   "cell_type": "code",
   "execution_count": 5,
   "metadata": {},
   "outputs": [],
   "source": [
    "mytest = PREDICT(data=df, Model=model, startDate='min', endDate='max', timestep='week')"
   ]
  },
  {
   "cell_type": "code",
   "execution_count": 6,
   "metadata": {},
   "outputs": [],
   "source": [
    "mytest.addLogHook(Accuracy(model))"
   ]
  },
  {
   "cell_type": "code",
   "execution_count": 7,
   "metadata": {},
   "outputs": [],
   "source": [
    "mytest.run()"
   ]
  },
  {
   "cell_type": "code",
   "execution_count": 8,
   "metadata": {},
   "outputs": [],
   "source": [
    "log = mytest.getLog()"
   ]
  },
  {
   "cell_type": "code",
   "execution_count": 9,
   "metadata": {},
   "outputs": [
    {
     "data": {
      "text/plain": [
       "{Timestamp('2024-01-08 00:00:00'): 0.8971428571428571,\n",
       " Timestamp('2024-01-15 00:00:00'): 0.9014285714285715,\n",
       " Timestamp('2024-01-22 00:00:00'): 0.8985714285714286,\n",
       " Timestamp('2024-01-29 00:00:00'): 0.8914285714285715,\n",
       " Timestamp('2024-02-05 00:00:00'): 0.8742857142857143,\n",
       " Timestamp('2024-02-12 00:00:00'): 0.8728571428571429,\n",
       " Timestamp('2024-02-19 00:00:00'): 0.8528571428571429,\n",
       " Timestamp('2024-02-26 00:00:00'): 0.8442857142857143,\n",
       " Timestamp('2024-03-04 00:00:00'): 0.84,\n",
       " Timestamp('2024-03-11 00:00:00'): 0.8371428571428572,\n",
       " Timestamp('2024-03-18 00:00:00'): 0.8085714285714286,\n",
       " Timestamp('2024-03-25 00:00:00'): 0.82,\n",
       " Timestamp('2024-04-01 00:00:00'): 0.7828571428571428,\n",
       " Timestamp('2024-04-08 00:00:00'): 0.7985714285714286,\n",
       " Timestamp('2024-04-15 00:00:00'): 0.7628571428571429,\n",
       " Timestamp('2024-04-22 00:00:00'): 0.7585714285714286,\n",
       " Timestamp('2024-04-29 00:00:00'): 0.7628571428571429,\n",
       " Timestamp('2024-05-06 00:00:00'): 0.7585714285714286,\n",
       " Timestamp('2024-05-13 00:00:00'): 0.74,\n",
       " Timestamp('2024-05-20 00:00:00'): 0.7214285714285714,\n",
       " Timestamp('2024-05-27 00:00:00'): 0.76,\n",
       " Timestamp('2024-06-03 00:00:00'): 0.7257142857142858,\n",
       " Timestamp('2024-06-10 00:00:00'): 0.7585714285714286,\n",
       " Timestamp('2024-06-17 00:00:00'): 0.7371428571428571,\n",
       " Timestamp('2024-06-24 00:00:00'): 0.7085714285714285,\n",
       " Timestamp('2024-07-01 00:00:00'): 0.7257142857142858,\n",
       " Timestamp('2024-07-08 00:00:00'): 0.7114285714285714,\n",
       " Timestamp('2024-07-15 00:00:00'): 0.7142857142857143,\n",
       " Timestamp('2024-07-22 00:00:00'): 0.6914285714285714,\n",
       " Timestamp('2024-07-29 00:00:00'): 0.68,\n",
       " Timestamp('2024-08-05 00:00:00'): 0.6471428571428571,\n",
       " Timestamp('2024-08-12 00:00:00'): 0.6657142857142857,\n",
       " Timestamp('2024-08-19 00:00:00'): 0.6671428571428571,\n",
       " Timestamp('2024-08-26 00:00:00'): 0.6514285714285715,\n",
       " Timestamp('2024-09-02 00:00:00'): 0.6342857142857142,\n",
       " Timestamp('2024-09-09 00:00:00'): 0.6014285714285714,\n",
       " Timestamp('2024-09-16 00:00:00'): 0.59,\n",
       " Timestamp('2024-09-23 00:00:00'): 0.6371428571428571,\n",
       " Timestamp('2024-09-30 00:00:00'): 0.63,\n",
       " Timestamp('2024-10-07 00:00:00'): 0.5957142857142858,\n",
       " Timestamp('2024-10-14 00:00:00'): 0.59,\n",
       " Timestamp('2024-10-21 00:00:00'): 0.5971428571428572,\n",
       " Timestamp('2024-10-28 00:00:00'): 0.5757142857142857,\n",
       " Timestamp('2024-11-04 00:00:00'): 0.5714285714285714,\n",
       " Timestamp('2024-11-11 00:00:00'): 0.5285714285714286,\n",
       " Timestamp('2024-11-18 00:00:00'): 0.5742857142857143,\n",
       " Timestamp('2024-11-25 00:00:00'): 0.54,\n",
       " Timestamp('2024-12-02 00:00:00'): 0.55,\n",
       " Timestamp('2024-12-09 00:00:00'): 0.5414285714285715,\n",
       " Timestamp('2024-12-16 00:00:00'): 0.5457142857142857,\n",
       " Timestamp('2024-12-23 00:00:00'): 0.5171428571428571,\n",
       " Timestamp('2024-12-30 00:00:00'): 0.5042857142857143}"
      ]
     },
     "execution_count": 9,
     "metadata": {},
     "output_type": "execute_result"
    }
   ],
   "source": [
    "log['Accuracy']"
   ]
  },
  {
   "cell_type": "code",
   "execution_count": 10,
   "metadata": {},
   "outputs": [
    {
     "data": {
      "text/plain": [
       "[<matplotlib.lines.Line2D at 0x1943ffa4f90>]"
      ]
     },
     "execution_count": 10,
     "metadata": {},
     "output_type": "execute_result"
    },
    {
     "data": {
      "image/png": "[encoded data removed]",
      "text/plain": [
       "<Figure size 640x480 with 1 Axes>"
      ]
     },
     "metadata": {},
     "output_type": "display_data"
    }
   ],
   "source": [
    "plt.plot(log['Accuracy'].keys(), log['Accuracy'].values())"
   ]
  },
  {
   "cell_type": "code",
   "execution_count": null,
   "metadata": {},
   "outputs": [],
   "source": []
  }
 ],
 "metadata": {
  "kernelspec": {
   "display_name": "pythonbasic",
   "language": "python",
   "name": "python3"
  },
  "language_info": {
   "codemirror_mode": {
    "name": "ipython",
    "version": 3
   },
   "file_extension": ".py",
   "mimetype": "text/x-python",
   "name": "python",
   "nbconvert_exporter": "python",
   "pygments_lexer": "ipython3",
   "version": "3.11.9"
  }
 },
 "nbformat": 4,
 "nbformat_minor": 2
}
