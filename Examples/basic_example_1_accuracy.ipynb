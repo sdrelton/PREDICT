{
 "cells": [
  {
   "cell_type": "code",
   "execution_count": 1,
   "metadata": {},
   "outputs": [],
   "source": [
    "import sys\n",
    "sys.path.append(\"../\")\n",
    "from PREDICT import PREDICT\n",
    "from PREDICT.Models import EvaluatePredictions\n",
    "from PREDICT.Metrics import Accuracy\n",
    "\n",
    "import pandas as pd\n",
    "import datetime as dt\n",
    "import numpy as np\n",
    "import matplotlib.pyplot as plt"
   ]
  },
  {
   "cell_type": "markdown",
   "metadata": {},
   "source": [
    "# Basic Example - Evaluating an existing prediction model\n",
    "\n",
    "In this simple scenario, we are evaluating a pre-existing model which makes binary predictions. We are interested in the accuracy over time.\n",
    "\n",
    "We are not doing any recalibration, model updating etc., simply observing the performance of this pre-existing model over time."
   ]
  },
  {
   "cell_type": "markdown",
   "metadata": {},
   "source": [
    "# Create some synthetic data\n",
    "\n",
    "To demonstrate this, we'll create some synthetic data across 52 weeks with accuracy declining over time.\n",
    "\n",
    "Start with accuracy = 90% and dropping linearly to 50% by the end of the year.\n",
    "\n",
    "For each day, create 100 fake datapoints with that expected level of accuracy classified correctly."
   ]
  },
  {
   "cell_type": "code",
   "execution_count": 2,
   "metadata": {},
   "outputs": [],
   "source": [
    "mydict = {\n",
    "    'date': list(),\n",
    "    'outcome': list(),\n",
    "    'prediction': list()\n",
    "}\n",
    "np.random.seed(42)\n",
    "numweeks = 52\n",
    "startDate = pd.to_datetime('01-01-2024', dayfirst=True)\n",
    "endDate = pd.to_datetime('31-12-2024', dayfirst=True)\n",
    "numdays = (endDate - startDate).days\n",
    "accuracy_start = 0.9\n",
    "accuracy_end = 0.5\n",
    "accuracy_drop = (0.9-0.5)/numdays\n",
    "\n",
    "for i in range(numdays):\n",
    "    curday = startDate + dt.timedelta(days=i)\n",
    "    curaccuracy = accuracy_start - accuracy_drop*i\n",
    "    # Generate fake outcomes\n",
    "    curoutcomes = np.random.choice([0, 1], size=100, p=[0.5, 0.5])\n",
    "    # Generate fake outcomes to match current accuracy level\n",
    "    correct = np.random.choice([0, 1], size=100, p=[1-curaccuracy, curaccuracy])\n",
    "    ix = list(np.where(correct==0)[0])\n",
    "    curpredictions = curoutcomes.copy()\n",
    "    curpredictions[ix] = 1-curpredictions[ix]\n",
    "    # Append to dictionary\n",
    "    mydict['date'].extend([curday]*100)\n",
    "    mydict['outcome'].extend(curoutcomes)\n",
    "    mydict['prediction'].extend(curpredictions)\n",
    "\n",
    "df = pd.DataFrame(mydict)"
   ]
  },
  {
   "cell_type": "code",
   "execution_count": 3,
   "metadata": {},
   "outputs": [
    {
     "data": {
      "text/html": [
       "<div>\n",
       "<style scoped>\n",
       "    .dataframe tbody tr th:only-of-type {\n",
       "        vertical-align: middle;\n",
       "    }\n",
       "\n",
       "    .dataframe tbody tr th {\n",
       "        vertical-align: top;\n",
       "    }\n",
       "\n",
       "    .dataframe thead th {\n",
       "        text-align: right;\n",
       "    }\n",
       "</style>\n",
       "<table border=\"1\" class=\"dataframe\">\n",
       "  <thead>\n",
       "    <tr style=\"text-align: right;\">\n",
       "      <th></th>\n",
       "      <th>date</th>\n",
       "      <th>outcome</th>\n",
       "      <th>prediction</th>\n",
       "    </tr>\n",
       "  </thead>\n",
       "  <tbody>\n",
       "    <tr>\n",
       "      <th>0</th>\n",
       "      <td>2024-01-01</td>\n",
       "      <td>0</td>\n",
       "      <td>1</td>\n",
       "    </tr>\n",
       "    <tr>\n",
       "      <th>1</th>\n",
       "      <td>2024-01-01</td>\n",
       "      <td>1</td>\n",
       "      <td>1</td>\n",
       "    </tr>\n",
       "    <tr>\n",
       "      <th>2</th>\n",
       "      <td>2024-01-01</td>\n",
       "      <td>1</td>\n",
       "      <td>1</td>\n",
       "    </tr>\n",
       "    <tr>\n",
       "      <th>3</th>\n",
       "      <td>2024-01-01</td>\n",
       "      <td>1</td>\n",
       "      <td>1</td>\n",
       "    </tr>\n",
       "    <tr>\n",
       "      <th>4</th>\n",
       "      <td>2024-01-01</td>\n",
       "      <td>0</td>\n",
       "      <td>0</td>\n",
       "    </tr>\n",
       "  </tbody>\n",
       "</table>\n",
       "</div>"
      ],
      "text/plain": [
       "        date  outcome  prediction\n",
       "0 2024-01-01        0           1\n",
       "1 2024-01-01        1           1\n",
       "2 2024-01-01        1           1\n",
       "3 2024-01-01        1           1\n",
       "4 2024-01-01        0           0"
      ]
     },
     "execution_count": 3,
     "metadata": {},
     "output_type": "execute_result"
    }
   ],
   "source": [
    "df.head()"
   ]
  },
  {
   "cell_type": "markdown",
   "metadata": {},
   "source": [
    "# Temporal drift of accuracy over time\n",
    "Now we will setup a PREDICT framework to evaluate the drift in accuracy over time.\n",
    "\n",
    "Since we are evaluating model predictions that are already within the dataframe, we can use EvaluatePredictions as shown below.\n",
    "\n",
    "We want to test the accuracy from the start of the dataset until the end, in weekly timesteps."
   ]
  },
  {
   "cell_type": "code",
   "execution_count": 4,
   "metadata": {},
   "outputs": [],
   "source": [
    "model = EvaluatePredictions(colName='prediction')\n",
    "mytest = PREDICT(data=df, model=model, startDate='min', endDate='max', timestep='week')\n",
    "mytest.addLogHook(Accuracy(model))"
   ]
  },
  {
   "cell_type": "code",
   "execution_count": 5,
   "metadata": {},
   "outputs": [],
   "source": [
    "# Run the temporal drift detection\n",
    "mytest.run()"
   ]
  },
  {
   "cell_type": "code",
   "execution_count": 6,
   "metadata": {},
   "outputs": [
    {
     "data": {
      "text/plain": [
       "{Timestamp('2024-01-08 00:00:00'): 0.9042857142857142,\n",
       " Timestamp('2024-01-15 00:00:00'): 0.8757142857142857,\n",
       " Timestamp('2024-01-22 00:00:00'): 0.8771428571428571,\n",
       " Timestamp('2024-01-29 00:00:00'): 0.87,\n",
       " Timestamp('2024-02-05 00:00:00'): 0.8571428571428571,\n",
       " Timestamp('2024-02-12 00:00:00'): 0.8457142857142858,\n",
       " Timestamp('2024-02-19 00:00:00'): 0.87,\n",
       " Timestamp('2024-02-26 00:00:00'): 0.8614285714285714,\n",
       " Timestamp('2024-03-04 00:00:00'): 0.8214285714285714,\n",
       " Timestamp('2024-03-11 00:00:00'): 0.8328571428571429,\n",
       " Timestamp('2024-03-18 00:00:00'): 0.8114285714285714,\n",
       " Timestamp('2024-03-25 00:00:00'): 0.8214285714285714,\n",
       " Timestamp('2024-04-01 00:00:00'): 0.8171428571428572,\n",
       " Timestamp('2024-04-08 00:00:00'): 0.8185714285714286,\n",
       " Timestamp('2024-04-15 00:00:00'): 0.8185714285714286,\n",
       " Timestamp('2024-04-22 00:00:00'): 0.78,\n",
       " Timestamp('2024-04-29 00:00:00'): 0.7985714285714286,\n",
       " Timestamp('2024-05-06 00:00:00'): 0.7714285714285715,\n",
       " Timestamp('2024-05-13 00:00:00'): 0.7542857142857143,\n",
       " Timestamp('2024-05-20 00:00:00'): 0.7614285714285715,\n",
       " Timestamp('2024-05-27 00:00:00'): 0.7257142857142858,\n",
       " Timestamp('2024-06-03 00:00:00'): 0.7342857142857143,\n",
       " Timestamp('2024-06-10 00:00:00'): 0.7457142857142857,\n",
       " Timestamp('2024-06-17 00:00:00'): 0.7285714285714285,\n",
       " Timestamp('2024-06-24 00:00:00'): 0.7242857142857143,\n",
       " Timestamp('2024-07-01 00:00:00'): 0.6728571428571428,\n",
       " Timestamp('2024-07-08 00:00:00'): 0.6871428571428572,\n",
       " Timestamp('2024-07-15 00:00:00'): 0.6842857142857143,\n",
       " Timestamp('2024-07-22 00:00:00'): 0.6971428571428572,\n",
       " Timestamp('2024-07-29 00:00:00'): 0.6428571428571429,\n",
       " Timestamp('2024-08-05 00:00:00'): 0.6757142857142857,\n",
       " Timestamp('2024-08-12 00:00:00'): 0.64,\n",
       " Timestamp('2024-08-19 00:00:00'): 0.6428571428571429,\n",
       " Timestamp('2024-08-26 00:00:00'): 0.6228571428571429,\n",
       " Timestamp('2024-09-02 00:00:00'): 0.5928571428571429,\n",
       " Timestamp('2024-09-09 00:00:00'): 0.62,\n",
       " Timestamp('2024-09-16 00:00:00'): 0.6528571428571428,\n",
       " Timestamp('2024-09-23 00:00:00'): 0.6185714285714285,\n",
       " Timestamp('2024-09-30 00:00:00'): 0.5885714285714285,\n",
       " Timestamp('2024-10-07 00:00:00'): 0.6014285714285714,\n",
       " Timestamp('2024-10-14 00:00:00'): 0.59,\n",
       " Timestamp('2024-10-21 00:00:00'): 0.5742857142857143,\n",
       " Timestamp('2024-10-28 00:00:00'): 0.5671428571428572,\n",
       " Timestamp('2024-11-04 00:00:00'): 0.5485714285714286,\n",
       " Timestamp('2024-11-11 00:00:00'): 0.5828571428571429,\n",
       " Timestamp('2024-11-18 00:00:00'): 0.5571428571428572,\n",
       " Timestamp('2024-11-25 00:00:00'): 0.5571428571428572,\n",
       " Timestamp('2024-12-02 00:00:00'): 0.5314285714285715,\n",
       " Timestamp('2024-12-09 00:00:00'): 0.5228571428571429,\n",
       " Timestamp('2024-12-16 00:00:00'): 0.5514285714285714,\n",
       " Timestamp('2024-12-23 00:00:00'): 0.49,\n",
       " Timestamp('2024-12-30 00:00:00'): 0.49}"
      ]
     },
     "execution_count": 6,
     "metadata": {},
     "output_type": "execute_result"
    }
   ],
   "source": [
    "# Get the logged accuracy scores and print them out\n",
    "log = mytest.getLog()\n",
    "log['Accuracy']"
   ]
  },
  {
   "cell_type": "code",
   "execution_count": 7,
   "metadata": {},
   "outputs": [
    {
     "data": {
      "text/plain": [
       "[<matplotlib.lines.Line2D at 0x23b5bc0a1c8>]"
      ]
     },
     "execution_count": 7,
     "metadata": {},
     "output_type": "execute_result"
    },
    {
     "data": {
      "image/png": "[encoded data removed]",
      "text/plain": [
       "<Figure size 640x480 with 1 Axes>"
      ]
     },
     "metadata": {},
     "output_type": "display_data"
    }
   ],
   "source": [
    "# Plot the accuracy in a linegraph\n",
    "plt.plot(log['Accuracy'].keys(), log['Accuracy'].values())"
   ]
  }
 ],
 "metadata": {
  "kernelspec": {
   "display_name": "testskl",
   "language": "python",
   "name": "python3"
  },
  "language_info": {
   "codemirror_mode": {
    "name": "ipython",
    "version": 3
   },
   "file_extension": ".py",
   "mimetype": "text/x-python",
   "name": "python",
   "nbconvert_exporter": "python",
   "pygments_lexer": "ipython3",
   "version": "3.7.16"
  }
 },
 "nbformat": 4,
 "nbformat_minor": 2
}
