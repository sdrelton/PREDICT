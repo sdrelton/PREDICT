{
 "cells": [
  {
   "cell_type": "code",
   "execution_count": 1,
   "metadata": {},
   "outputs": [],
   "source": [
    "import sys\n",
    "sys.path.append(\"../\")\n",
    "from PREDICT import PREDICT\n",
    "from PREDICT.Models import RecalibratePredictions\n",
    "from PREDICT.Metrics import Accuracy\n",
    "from PREDICT.Triggers import AccuracyThreshold\n",
    "\n",
    "import pandas as pd\n",
    "import datetime as dt\n",
    "import numpy as np\n",
    "import matplotlib.pyplot as plt"
   ]
  },
  {
   "cell_type": "markdown",
   "metadata": {},
   "source": [
    "# Recalibration Example\n",
    "In this scenario, we have predictions from an existing model but the underlying data changes twice over a year period.\n",
    "\n",
    "This means there are two dates where the model predictions will be badly calibrated, leading to poor predictions.\n",
    "\n",
    "We are going to track the accuracy over time, and recalibrate the model when the accuracy drops below 0.7.\n",
    "\n",
    "Recalibration is performed by fitting a logistic regression to adjust the predictions (aka Platt scaling).\n",
    "\n",
    "# Synthetic Data\n",
    "We create some fake data where the predictions will go wrong twice during the year."
   ]
  },
  {
   "cell_type": "code",
   "execution_count": 2,
   "metadata": {},
   "outputs": [],
   "source": [
    "# Fake data with stepchange in incidence rate to test recalibration\n",
    "mydict = {\n",
    "    'date': list(),\n",
    "    'outcome': list(),\n",
    "    'prediction': list()\n",
    "}\n",
    "np.random.seed(42)\n",
    "startDate = pd.to_datetime('01-01-2024', dayfirst=True)\n",
    "endDate = pd.to_datetime('31-12-2024', dayfirst=True)\n",
    "switchDate = pd.to_datetime('01-07-2024', dayfirst=True)\n",
    "switchDate2 = pd.to_datetime('01-10-2024', dayfirst=True)\n",
    "numdays = (endDate - startDate).days\n",
    "switchDays = (switchDate - startDate).days\n",
    "switch2Days = (switchDate2 - startDate).days\n",
    "\n",
    "# Create some semi-realistic data for n = 5000 people\n",
    "age = np.random.normal(70, 5, 5000)\n",
    "systolic_bp = np.random.normal(120, 10, 5000)\n",
    "\n",
    "for i in range(numdays):\n",
    "    curday = startDate + dt.timedelta(days=i)\n",
    "    \n",
    "    # Generate predictions\n",
    "    lp = -1.5 + 0.5 * (age-70)/5 + 2 * (systolic_bp - 120)/10\n",
    "    curpredictions = 1 / (1 + np.exp(-lp))\n",
    "    if i >= switchDays:\n",
    "        # Change to incidence rate\n",
    "        lp = lp + 2.5\n",
    "    if i >= switch2Days:\n",
    "        # Change incidence rate again\n",
    "        lp = lp - 2.5\n",
    "    \n",
    "    # Generate outcomes\n",
    "    curoutcomes = np.random.binomial(1, 1 / (1 + np.exp(-lp)))\n",
    "        \n",
    "    # Append to dictionary\n",
    "    mydict['date'].extend([curday]*5000)\n",
    "    mydict['outcome'].extend(curoutcomes)\n",
    "    mydict['prediction'].extend(curpredictions)\n",
    "\n",
    "df = pd.DataFrame(mydict)"
   ]
  },
  {
   "cell_type": "markdown",
   "metadata": {},
   "source": [
    "# Track accuracy over time and recalibrate\n",
    "\n",
    "We setup a RecalibratePredictions model, and set updates to trigger when the accuracy drops below 0.7. \n",
    "This class already implements the recalibration procedure.\n",
    "We then setup a PREDICT object and track the accuracy, as usual."
   ]
  },
  {
   "cell_type": "code",
   "execution_count": 3,
   "metadata": {},
   "outputs": [],
   "source": [
    "model = RecalibratePredictions()\n",
    "model.trigger = AccuracyThreshold(model=model, threshold=0.7)\n",
    "mytest = PREDICT(data=df, model=model, startDate='min', endDate='max', timestep='week')\n",
    "mytest.addLogHook(Accuracy(model))"
   ]
  },
  {
   "cell_type": "code",
   "execution_count": 4,
   "metadata": {},
   "outputs": [],
   "source": [
    "mytest.run()"
   ]
  },
  {
   "cell_type": "code",
   "execution_count": 5,
   "metadata": {},
   "outputs": [
    {
     "data": {
      "text/plain": [
       "{Timestamp('2024-07-08 00:00:00'): True,\n",
       " Timestamp('2024-10-07 00:00:00'): True}"
      ]
     },
     "execution_count": 5,
     "metadata": {},
     "output_type": "execute_result"
    }
   ],
   "source": [
    "# Check dates when the model recalibrated itself\n",
    "log = mytest.getLog()\n",
    "log['Model Updated']"
   ]
  },
  {
   "cell_type": "code",
   "execution_count": 6,
   "metadata": {},
   "outputs": [
    {
     "data": {
      "text/plain": [
       "<matplotlib.collections.LineCollection at 0x21cee4c3448>"
      ]
     },
     "execution_count": 6,
     "metadata": {},
     "output_type": "execute_result"
    },
    {
     "data": {
      "image/png": "[encoded data removed]",
      "text/plain": [
       "<Figure size 640x480 with 1 Axes>"
      ]
     },
     "metadata": {},
     "output_type": "display_data"
    }
   ],
   "source": [
    "# Plot the accuracy in a linegraph\n",
    "plt.plot(log['Accuracy'].keys(), log['Accuracy'].values())\n",
    "# Add dashed line to indicate when the model was recalibrated\n",
    "plt.vlines(log['Model Updated'].keys(), 0.6, 0.9, colors='r', linestyles='dashed')"
   ]
  }
 ],
 "metadata": {
  "kernelspec": {
   "display_name": "testskl",
   "language": "python",
   "name": "python3"
  },
  "language_info": {
   "codemirror_mode": {
    "name": "ipython",
    "version": 3
   },
   "file_extension": ".py",
   "mimetype": "text/x-python",
   "name": "python",
   "nbconvert_exporter": "python",
   "pygments_lexer": "ipython3",
   "version": "3.7.16"
  }
 },
 "nbformat": 4,
 "nbformat_minor": 2
}
