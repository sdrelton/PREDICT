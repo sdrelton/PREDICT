{
 "cells": [
  {
   "cell_type": "code",
   "execution_count": 1,
   "metadata": {},
   "outputs": [],
   "source": [
    "import sys\n",
    "sys.path.append(\"../\")\n",
    "from PREDICT import PREDICT\n",
    "from PREDICT.Models import RecalibratePredictions\n",
    "from PREDICT.Metrics import Accuracy, CalibrationSlope\n",
    "from PREDICT.Triggers import AccuracyThreshold\n",
    "\n",
    "import pandas as pd\n",
    "import datetime as dt\n",
    "import numpy as np\n",
    "import matplotlib.pyplot as plt"
   ]
  },
  {
   "cell_type": "markdown",
   "metadata": {},
   "source": [
    "# Recalibration Example\n",
    "In this scenario, we have predictions from an existing model but the underlying data changes twice over a year period.\n",
    "\n",
    "This means there are two dates where the model predictions will be badly calibrated, leading to poor predictions.\n",
    "\n",
    "We are going to track the accuracy over time, and recalibrate the model when the accuracy drops below 0.7.\n",
    "\n",
    "Recalibration is performed by fitting a logistic regression to adjust the predictions (aka Platt scaling).\n",
    "\n",
    "# Synthetic Data\n",
    "We create some fake data where the predictions will go wrong twice during the year."
   ]
  },
  {
   "cell_type": "code",
   "execution_count": 2,
   "metadata": {},
   "outputs": [],
   "source": [
    "# Fake data with stepchange in incidence rate to test recalibration\n",
    "mydict = {\n",
    "    'date': list(),\n",
    "    'outcome': list(),\n",
    "    'prediction': list()\n",
    "}\n",
    "np.random.seed(42)\n",
    "startDate = pd.to_datetime('01-01-2024', dayfirst=True)\n",
    "endDate = pd.to_datetime('31-12-2024', dayfirst=True)\n",
    "switchDate = pd.to_datetime('01-07-2024', dayfirst=True)\n",
    "switchDate2 = pd.to_datetime('01-10-2024', dayfirst=True)\n",
    "numdays = (endDate - startDate).days\n",
    "switchDays = (switchDate - startDate).days\n",
    "switch2Days = (switchDate2 - startDate).days\n",
    "\n",
    "# Create some semi-realistic data for n = 5000 people\n",
    "age = np.random.normal(70, 5, 5000)\n",
    "systolic_bp = np.random.normal(120, 10, 5000)\n",
    "\n",
    "for i in range(numdays):\n",
    "    curday = startDate + dt.timedelta(days=i)\n",
    "    \n",
    "    # Generate predictions\n",
    "    lp = -1.5 + 0.5 * (age-70)/5 + 2 * (systolic_bp - 120)/10\n",
    "    curpredictions = 1 / (1 + np.exp(-lp))\n",
    "    if i >= switchDays:\n",
    "        # Change to incidence rate\n",
    "        lp = lp + 2.5\n",
    "    if i >= switch2Days:\n",
    "        # Change incidence rate again\n",
    "        lp = lp - 2.5\n",
    "    \n",
    "    # Generate outcomes\n",
    "    curoutcomes = np.random.binomial(1, 1 / (1 + np.exp(-lp)))\n",
    "        \n",
    "    # Append to dictionary\n",
    "    mydict['date'].extend([curday]*5000)\n",
    "    mydict['outcome'].extend(curoutcomes)\n",
    "    mydict['prediction'].extend(curpredictions)\n",
    "\n",
    "df = pd.DataFrame(mydict)"
   ]
  },
  {
   "cell_type": "code",
   "execution_count": 3,
   "metadata": {},
   "outputs": [
    {
     "data": {
      "text/html": [
       "<div>\n",
       "<style scoped>\n",
       "    .dataframe tbody tr th:only-of-type {\n",
       "        vertical-align: middle;\n",
       "    }\n",
       "\n",
       "    .dataframe tbody tr th {\n",
       "        vertical-align: top;\n",
       "    }\n",
       "\n",
       "    .dataframe thead th {\n",
       "        text-align: right;\n",
       "    }\n",
       "</style>\n",
       "<table border=\"1\" class=\"dataframe\">\n",
       "  <thead>\n",
       "    <tr style=\"text-align: right;\">\n",
       "      <th></th>\n",
       "      <th>date</th>\n",
       "      <th>outcome</th>\n",
       "      <th>prediction</th>\n",
       "    </tr>\n",
       "  </thead>\n",
       "  <tbody>\n",
       "    <tr>\n",
       "      <th>0</th>\n",
       "      <td>2024-01-01</td>\n",
       "      <td>0</td>\n",
       "      <td>0.109178</td>\n",
       "    </tr>\n",
       "    <tr>\n",
       "      <th>1</th>\n",
       "      <td>2024-01-01</td>\n",
       "      <td>0</td>\n",
       "      <td>0.077561</td>\n",
       "    </tr>\n",
       "    <tr>\n",
       "      <th>2</th>\n",
       "      <td>2024-01-01</td>\n",
       "      <td>0</td>\n",
       "      <td>0.008430</td>\n",
       "    </tr>\n",
       "    <tr>\n",
       "      <th>3</th>\n",
       "      <td>2024-01-01</td>\n",
       "      <td>0</td>\n",
       "      <td>0.198028</td>\n",
       "    </tr>\n",
       "    <tr>\n",
       "      <th>4</th>\n",
       "      <td>2024-01-01</td>\n",
       "      <td>1</td>\n",
       "      <td>0.462218</td>\n",
       "    </tr>\n",
       "    <tr>\n",
       "      <th>...</th>\n",
       "      <td>...</td>\n",
       "      <td>...</td>\n",
       "      <td>...</td>\n",
       "    </tr>\n",
       "    <tr>\n",
       "      <th>1824995</th>\n",
       "      <td>2024-12-30</td>\n",
       "      <td>0</td>\n",
       "      <td>0.746063</td>\n",
       "    </tr>\n",
       "    <tr>\n",
       "      <th>1824996</th>\n",
       "      <td>2024-12-30</td>\n",
       "      <td>0</td>\n",
       "      <td>0.005818</td>\n",
       "    </tr>\n",
       "    <tr>\n",
       "      <th>1824997</th>\n",
       "      <td>2024-12-30</td>\n",
       "      <td>0</td>\n",
       "      <td>0.205188</td>\n",
       "    </tr>\n",
       "    <tr>\n",
       "      <th>1824998</th>\n",
       "      <td>2024-12-30</td>\n",
       "      <td>0</td>\n",
       "      <td>0.473911</td>\n",
       "    </tr>\n",
       "    <tr>\n",
       "      <th>1824999</th>\n",
       "      <td>2024-12-30</td>\n",
       "      <td>0</td>\n",
       "      <td>0.346320</td>\n",
       "    </tr>\n",
       "  </tbody>\n",
       "</table>\n",
       "<p>1825000 rows × 3 columns</p>\n",
       "</div>"
      ],
      "text/plain": [
       "              date  outcome  prediction\n",
       "0       2024-01-01        0    0.109178\n",
       "1       2024-01-01        0    0.077561\n",
       "2       2024-01-01        0    0.008430\n",
       "3       2024-01-01        0    0.198028\n",
       "4       2024-01-01        1    0.462218\n",
       "...            ...      ...         ...\n",
       "1824995 2024-12-30        0    0.746063\n",
       "1824996 2024-12-30        0    0.005818\n",
       "1824997 2024-12-30        0    0.205188\n",
       "1824998 2024-12-30        0    0.473911\n",
       "1824999 2024-12-30        0    0.346320\n",
       "\n",
       "[1825000 rows x 3 columns]"
      ]
     },
     "execution_count": 3,
     "metadata": {},
     "output_type": "execute_result"
    }
   ],
   "source": [
    "df"
   ]
  },
  {
   "cell_type": "markdown",
   "metadata": {},
   "source": [
    "# Track accuracy over time and recalibrate\n",
    "\n",
    "We setup a RecalibratePredictions model, and set updates to trigger when the accuracy drops below 0.7. \n",
    "This class already implements the recalibration procedure.\n",
    "We then setup a PREDICT object and track the accuracy, as usual."
   ]
  },
  {
   "cell_type": "code",
   "execution_count": 4,
   "metadata": {},
   "outputs": [],
   "source": [
    "model = RecalibratePredictions()\n",
    "model.trigger = AccuracyThreshold(model=model, threshold=0.7)\n",
    "mytest = PREDICT(data=df, model=model, startDate='min', endDate='max', timestep='week')\n",
    "mytest.addLogHook(Accuracy(model))\n",
    "mytest.addLogHook(CalibrationSlope(model))"
   ]
  },
  {
   "cell_type": "code",
   "execution_count": 5,
   "metadata": {},
   "outputs": [],
   "source": [
    "mytest.run()"
   ]
  },
  {
   "cell_type": "code",
   "execution_count": 6,
   "metadata": {},
   "outputs": [
    {
     "data": {
      "text/plain": [
       "{Timestamp('2024-07-08 00:00:00'): True,\n",
       " Timestamp('2024-10-07 00:00:00'): True}"
      ]
     },
     "execution_count": 6,
     "metadata": {},
     "output_type": "execute_result"
    }
   ],
   "source": [
    "# Check dates when the model recalibrated itself\n",
    "log = mytest.getLog()\n",
    "log['Model Updated']"
   ]
  },
  {
   "cell_type": "code",
   "execution_count": 7,
   "metadata": {},
   "outputs": [
    {
     "data": {
      "text/plain": [
       "<matplotlib.collections.LineCollection at 0x131dc75c510>"
      ]
     },
     "execution_count": 7,
     "metadata": {},
     "output_type": "execute_result"
    },
    {
     "data": {
      "image/png": "[encoded data removed]",
      "text/plain": [
       "<Figure size 640x480 with 1 Axes>"
      ]
     },
     "metadata": {},
     "output_type": "display_data"
    }
   ],
   "source": [
    "# Plot the accuracy in a linegraph\n",
    "plt.plot(log['Accuracy'].keys(), log['Accuracy'].values())\n",
    "# Add dashed line to indicate when the model was recalibrated\n",
    "plt.vlines(log['Model Updated'].keys(), 0.6, 0.9, colors='r', linestyles='dashed')"
   ]
  },
  {
   "cell_type": "code",
   "execution_count": 10,
   "metadata": {},
   "outputs": [
    {
     "data": {
      "text/plain": [
       "(0.0, 3.0)"
      ]
     },
     "execution_count": 10,
     "metadata": {},
     "output_type": "execute_result"
    },
    {
     "data": {
      "image/png": "[encoded data removed]",
      "text/plain": [
       "<Figure size 640x480 with 1 Axes>"
      ]
     },
     "metadata": {},
     "output_type": "display_data"
    }
   ],
   "source": [
    "# Plot the calibration slope values in a linegraph\n",
    "plt.plot(log['CalibrationSlope'].keys(), log['CalibrationSlope'].values())\n",
    "# Add dashed line to indicate when the model was recalibrated\n",
    "plt.vlines(log['Model Updated'].keys(), 0, 5, colors='r', linestyles='dashed')\n",
    "plt.ylim(0, 3)"
   ]
  },
  {
   "cell_type": "code",
   "execution_count": null,
   "metadata": {},
   "outputs": [],
   "source": []
  }
 ],
 "metadata": {
  "kernelspec": {
   "display_name": "testskl",
   "language": "python",
   "name": "python3"
  },
  "language_info": {
   "codemirror_mode": {
    "name": "ipython",
    "version": 3
   },
   "file_extension": ".py",
   "mimetype": "text/x-python",
   "name": "python",
   "nbconvert_exporter": "python",
   "pygments_lexer": "ipython3",
   "version": "3.7.16"
  }
 },
 "nbformat": 4,
 "nbformat_minor": 2
}
