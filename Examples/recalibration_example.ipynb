{
 "cells": [
  {
   "cell_type": "code",
   "execution_count": 1,
   "metadata": {},
   "outputs": [],
   "source": [
    "import sys\n",
    "sys.path.append(\"../\")\n",
    "from PREDICT import PREDICT\n",
    "from PREDICT.Models import RecalibratePredictions\n",
    "from PREDICT.Metrics import Accuracy, AUC, F1Score, Precision, Recall, Sensitivity, Specificity\n",
    "from PREDICT.Triggers import accuracy_threshold\n",
    "\n",
    "import pandas as pd\n",
    "import datetime as dt\n",
    "import numpy as np\n",
    "import matplotlib.pyplot as plt"
   ]
  },
  {
   "cell_type": "code",
   "execution_count": 2,
   "metadata": {},
   "outputs": [],
   "source": [
    "# Fake data with stepchange in incidence rate to test recalibration\n",
    "mydict = {\n",
    "    'date': list(),\n",
    "    'outcome': list(),\n",
    "    'prediction': list()\n",
    "}\n",
    "np.random.seed(42)\n",
    "numweeks = 104\n",
    "startDate = pd.to_datetime('01-01-2024', dayfirst=True)\n",
    "endDate = pd.to_datetime('31-12-2024', dayfirst=True)\n",
    "numdays = (endDate - startDate).days\n",
    "accuracy_start = 0.9\n",
    "\n",
    "for i in range(numdays):\n",
    "    curday = startDate + dt.timedelta(days=i)\n",
    "    curaccuracy = accuracy_start - 0.5 * np.random.rand()\n",
    "    # Generate fake outcomes\n",
    "    curoutcomes = np.random.choice([0, 1], size=100, p=[0.7, 0.3])\n",
    "    # Generate fake outcomes to match current accuracy level\n",
    "    correct = np.random.choice([0, 1], size=100, p=[1-curaccuracy, curaccuracy])\n",
    "    ix = list(np.where(correct==0)[0])\n",
    "    curpredictions = curoutcomes.copy()\n",
    "    curpredictions[ix] = 1-curpredictions[ix]\n",
    "    # Append to dictionary\n",
    "    mydict['date'].extend([curday]*100)\n",
    "    mydict['outcome'].extend(curoutcomes)\n",
    "    mydict['prediction'].extend(curpredictions)\n",
    "\n",
    "df = pd.DataFrame(mydict)"
   ]
  },
  {
   "cell_type": "code",
   "execution_count": 3,
   "metadata": {},
   "outputs": [],
   "source": [
    "trigger = accuracy_threshold(0.8)\n",
    "model = RecalibratePredictions(trigger=trigger)\n",
    "mytest = PREDICT(data=df, model=model, startDate='min', endDate='max', timestep='week')\n",
    "mytest.addLogHook(Accuracy(model))\n",
    "mytest.addLogHook(AUC(model))\n",
    "mytest.addLogHook(F1Score(model))\n",
    "mytest.addLogHook(Precision(model))\n",
    "mytest.addLogHook(Recall(model))\n",
    "mytest.addLogHook(Sensitivity(model))\n",
    "mytest.addLogHook(Specificity(model))"
   ]
  },
  {
   "cell_type": "code",
   "execution_count": 4,
   "metadata": {},
   "outputs": [
    {
     "ename": "TypeError",
     "evalue": "_accuracy_threshold() missing 1 required positional argument: 'prediction_threshold'",
     "output_type": "error",
     "traceback": [
      "\u001b[1;31m---------------------------------------------------------------------------\u001b[0m",
      "\u001b[1;31mTypeError\u001b[0m                                 Traceback (most recent call last)",
      "Cell \u001b[1;32mIn[4], line 1\u001b[0m\n\u001b[1;32m----> 1\u001b[0m \u001b[43mmytest\u001b[49m\u001b[38;5;241;43m.\u001b[39;49m\u001b[43mrun\u001b[49m\u001b[43m(\u001b[49m\u001b[43m)\u001b[49m\n",
      "File \u001b[1;32mc:\\Users\\hsssre\\Documents\\PREDICT\\Examples\\..\\PREDICT\\PREDICT.py:101\u001b[0m, in \u001b[0;36mPREDICT.run\u001b[1;34m(self)\u001b[0m\n\u001b[0;32m     99\u001b[0m     logname, result \u001b[38;5;241m=\u001b[39m hook(curdata)\n\u001b[0;32m    100\u001b[0m     \u001b[38;5;28mself\u001b[39m\u001b[38;5;241m.\u001b[39maddLog(logname, \u001b[38;5;28mself\u001b[39m\u001b[38;5;241m.\u001b[39mcurrentWindowEnd, result)\n\u001b[1;32m--> 101\u001b[0m \u001b[38;5;28;01mif\u001b[39;00m \u001b[38;5;28;43mself\u001b[39;49m\u001b[38;5;241;43m.\u001b[39;49m\u001b[43mmodel\u001b[49m\u001b[38;5;241;43m.\u001b[39;49m\u001b[43mtrigger\u001b[49m\u001b[43m(\u001b[49m\u001b[38;5;28;43mself\u001b[39;49m\u001b[38;5;241;43m.\u001b[39;49m\u001b[43mdata\u001b[49m\u001b[43m)\u001b[49m:\n\u001b[0;32m    102\u001b[0m     \u001b[38;5;28mself\u001b[39m\u001b[38;5;241m.\u001b[39mmodel\u001b[38;5;241m.\u001b[39mupdate(\u001b[38;5;28mself\u001b[39m\u001b[38;5;241m.\u001b[39mdata)\n\u001b[0;32m    103\u001b[0m     \u001b[38;5;66;03m# Add to log\u001b[39;00m\n",
      "File \u001b[1;32mc:\\Users\\hsssre\\Documents\\PREDICT\\Examples\\..\\PREDICT\\Triggers.py:4\u001b[0m, in \u001b[0;36maccuracy_threshold.<locals>.<lambda>\u001b[1;34m(x)\u001b[0m\n\u001b[0;32m      3\u001b[0m \u001b[38;5;28;01mdef\u001b[39;00m \u001b[38;5;21maccuracy_threshold\u001b[39m(threshold, prediction_threshold\u001b[38;5;241m=\u001b[39m\u001b[38;5;241m0.5\u001b[39m):\n\u001b[1;32m----> 4\u001b[0m     \u001b[38;5;28;01mreturn\u001b[39;00m \u001b[38;5;28;01mlambda\u001b[39;00m x: \u001b[43m_accuracy_threshold\u001b[49m\u001b[43m(\u001b[49m\u001b[43mx\u001b[49m\u001b[43m,\u001b[49m\u001b[43m \u001b[49m\u001b[43mthreshold\u001b[49m\u001b[43m,\u001b[49m\u001b[43m \u001b[49m\u001b[43mprediction_threshold\u001b[49m\u001b[43m)\u001b[49m\n",
      "\u001b[1;31mTypeError\u001b[0m: _accuracy_threshold() missing 1 required positional argument: 'prediction_threshold'"
     ]
    }
   ],
   "source": [
    "mytest.run()"
   ]
  },
  {
   "cell_type": "code",
   "execution_count": 5,
   "metadata": {},
   "outputs": [
    {
     "ename": "AttributeError",
     "evalue": "'RecalibratePredictions' object has no attribute 'postPredictHooks'",
     "output_type": "error",
     "traceback": [
      "\u001b[1;31m---------------------------------------------------------------------------\u001b[0m",
      "\u001b[1;31mAttributeError\u001b[0m                            Traceback (most recent call last)",
      "Cell \u001b[1;32mIn[5], line 1\u001b[0m\n\u001b[1;32m----> 1\u001b[0m \u001b[43mmodel\u001b[49m\u001b[38;5;241;43m.\u001b[39;49m\u001b[43mpostPredictHooks\u001b[49m\n",
      "\u001b[1;31mAttributeError\u001b[0m: 'RecalibratePredictions' object has no attribute 'postPredictHooks'"
     ]
    }
   ],
   "source": [
    "model.postPredictHooks"
   ]
  },
  {
   "cell_type": "code",
   "execution_count": null,
   "metadata": {},
   "outputs": [],
   "source": []
  }
 ],
 "metadata": {
  "kernelspec": {
   "display_name": "pythonbasic",
   "language": "python",
   "name": "python3"
  },
  "language_info": {
   "codemirror_mode": {
    "name": "ipython",
    "version": 3
   },
   "file_extension": ".py",
   "mimetype": "text/x-python",
   "name": "python",
   "nbconvert_exporter": "python",
   "pygments_lexer": "ipython3",
   "version": "3.11.9"
  }
 },
 "nbformat": 4,
 "nbformat_minor": 2
}
